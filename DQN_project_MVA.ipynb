{
 "cells": [
  {
   "cell_type": "markdown",
   "metadata": {},
   "source": [
    "**You may need to install [OpenCV](https://pypi.python.org/pypi/opencv-python) and [scikit-video](http://www.scikit-video.org/stable/).**"
   ]
  },
  {
   "cell_type": "code",
   "execution_count": 109,
   "metadata": {},
   "outputs": [],
   "source": [
    "import keras\n",
    "import numpy as np\n",
    "import io\n",
    "import base64\n",
    "from IPython.display import HTML\n",
    "import skvideo.io\n",
    "import cv2\n",
    "import json\n",
    "\n",
    "from keras.models import Sequential,model_from_json\n",
    "from keras.layers.core import Dense\n",
    "from keras.optimizers import sgd, Adam\n",
    "from keras.layers import Flatten, Conv2D, MaxPooling2D, Activation, AveragePooling2D,Reshape,BatchNormalization"
   ]
  },
  {
   "cell_type": "markdown",
   "metadata": {},
   "source": [
    "# MiniProject on Deep Reinforcement Learning"
   ]
  },
  {
   "cell_type": "markdown",
   "metadata": {},
   "source": [
    "__Notations__: $E_p$ is the expectation under probability $p$. Please justify each of your answer and widely comment your code."
   ]
  },
  {
   "cell_type": "markdown",
   "metadata": {},
   "source": [
    "# Context"
   ]
  },
  {
   "cell_type": "markdown",
   "metadata": {},
   "source": [
    "In a reinforcement learning algorithm, we modelize each step $t$ as an action $a_t$ obtained from a state $s_t$, i.e. $\\{(a_{t},s_{t})_{t\\leq T}\\}$ having the Markov property. We consider a discount factor $\\gamma \\in [0,1]$ that ensures convergence. The goal is to find among all the policies $\\pi$, one that maximizes the expected reward:\n",
    "\n",
    "\\begin{equation*}\n",
    "R(\\pi)=\\sum_{t\\leq T}E_{p^{\\pi}}[\\gamma^t r(s_{t},a_{t})] \\> ,\n",
    "\\end{equation*}\n",
    "\n",
    "where: \n",
    "\\begin{equation*}p^{\\pi}(a_{0},a_{1},s_{1},...,a_{T},s_{T})=p(a_{0})\\prod_{t=1}^{T}\\pi(a_{t}|s_{t})p(s_{t+1}|s_{t},a_{t}) \\> .\n",
    "\\end{equation*}\n",
    "\n",
    "We note the $Q$-function:\n",
    "\n",
    "\\begin{equation*}Q^\\pi(s,a)=E_{p^{\\pi}}[\\sum_{t\\leq T}\\gamma^{t}r(s_{t},a_{t})|s_{0}=s,a_{0}=a] \\> .\n",
    "\\end{equation*}\n",
    "\n",
    "Thus, the optimal Q function is:\n",
    "\\begin{equation*}\n",
    "Q^*(s,a)=\\max_{\\pi}Q^\\pi(s,a) \\> .\n",
    "\\end{equation*}\n",
    "\n",
    "In this project, we will apply the deep reinforcement learning techniques to a simple game: an agent will have to learn from scratch a policy that will permit it maximizing a reward."
   ]
  },
  {
   "cell_type": "markdown",
   "metadata": {},
   "source": [
    "## The environment, the agent and the game"
   ]
  },
  {
   "cell_type": "markdown",
   "metadata": {},
   "source": [
    "### The environment"
   ]
  },
  {
   "cell_type": "markdown",
   "metadata": {},
   "source": [
    "```Environment``` is an abstract class that represents the states, rewards, and actions to obtain the new state."
   ]
  },
  {
   "cell_type": "code",
   "execution_count": 110,
   "metadata": {},
   "outputs": [],
   "source": [
    "class Environment(object):\n",
    "    def __init__(self):\n",
    "        pass\n",
    "\n",
    "    def act(self, act):\n",
    "        \"\"\"\n",
    "        One can act on the environment and obtain its reaction:\n",
    "        - the new state\n",
    "        - the reward of the new state\n",
    "        - should we continue the game?\n",
    "\n",
    "        :return: state, reward, game_over\n",
    "        \"\"\"\n",
    "        pass\n",
    "\n",
    "\n",
    "    def reset(self):\n",
    "        \"\"\"\n",
    "        Reinitialize the environment to a random state and returns\n",
    "        the original state\n",
    "\n",
    "        :return: state\n",
    "        \"\"\"\n",
    "        pass\n",
    "    \n",
    "    def draw(self):\n",
    "        \"\"\"\n",
    "        Visualize in the console or graphically the current state\n",
    "        \"\"\"\n",
    "        pass"
   ]
  },
  {
   "cell_type": "markdown",
   "metadata": {},
   "source": [
    "The method ```act``` allows to act on the environment at a given state $s_t$ (stored internally), via action $a_t$. The method will return the new state $s_{t+1}$, the reward $r(s_{t},a_{t})$ and determines if $t\\leq T$ (*game_over*).\n",
    "\n",
    "The method ```reset``` simply reinitializes the environment to a random state $s_0$.\n",
    "\n",
    "The method ```draw``` displays the current state $s_t$ (this is useful to check the behavior of the Agent).\n",
    "\n",
    "We modelize $s_t$ as a tensor, while $a_t$ is an integer."
   ]
  },
  {
   "cell_type": "markdown",
   "metadata": {},
   "source": [
    "### The Agent"
   ]
  },
  {
   "cell_type": "markdown",
   "metadata": {},
   "source": [
    "The goal of the ```Agent``` is to interact with the ```Environment``` by proposing actions $a_t$ obtained from a given state $s_t$ to attempt to maximize its __reward__ $r(s_t,a_t)$. We propose the following abstract class:"
   ]
  },
  {
   "cell_type": "code",
   "execution_count": 111,
   "metadata": {},
   "outputs": [],
   "source": [
    "class Agent(object):\n",
    "    def __init__(self, epsilon=0.1, n_action=4):\n",
    "        self.epsilon = epsilon\n",
    "        self.n_action = n_action\n",
    "    \n",
    "    def set_epsilon(self,e):\n",
    "        self.epsilon = e\n",
    "\n",
    "    def act(self,s,train=True):\n",
    "        \"\"\" This function should return the next action to do:\n",
    "        an integer between 0 and 4 (not included) with a random exploration of epsilon\"\"\"\n",
    "        if train:\n",
    "            if np.random.rand() <= self.epsilon:\n",
    "                a = np.random.randint(0, self.n_action, size=1)[0]\n",
    "            else:\n",
    "                a = self.learned_act(s)\n",
    "        else: # in some cases, this can improve the performance.. remove it if poor performances\n",
    "            a = self.learned_act(s)\n",
    "\n",
    "        return a\n",
    "\n",
    "    def learned_act(self,s):\n",
    "        \"\"\" Act via the policy of the agent, from a given state s\n",
    "        it proposes an action a\"\"\"\n",
    "        pass\n",
    "\n",
    "    def reinforce(self, s, n_s, a, r, game_over_):\n",
    "        \"\"\" This function is the core of the learning algorithm. \n",
    "        It takes as an input the current state s_, the next state n_s_\n",
    "        the action a_ used to move from s_ to n_s_ and the reward r_.\n",
    "        \n",
    "        Its goal is to learn a policy.\n",
    "        \"\"\"\n",
    "        pass\n",
    "\n",
    "    def save(self):\n",
    "        \"\"\" This function returns basic stats if applicable: the\n",
    "        loss and/or the model\"\"\"\n",
    "        pass\n",
    "\n",
    "    def load(self):\n",
    "        \"\"\" This function allows to restore a model\"\"\"\n",
    "        pass"
   ]
  },
  {
   "cell_type": "markdown",
   "metadata": {},
   "source": [
    "***\n",
    "__Question 1__:\n",
    "Explain the function act. Why is ```epsilon``` essential?"
   ]
  },
  {
   "cell_type": "markdown",
   "metadata": {},
   "source": [
    "- The act function is returning the action $a_t$ that our agent is going to choose at the given time step $t$ and according to a state position $s_t$. This choice will be given by the learned policy. An important trade-off is the exploitation-exploration dilema. An esay way to start resolving it is by adding random action once in a while. Otherwise we can get stucked in a local minimum where our policy is sub-optimal because of a lack of exploration."
   ]
  },
  {
   "cell_type": "markdown",
   "metadata": {},
   "source": [
    "***\n",
    "### The Game"
   ]
  },
  {
   "cell_type": "markdown",
   "metadata": {},
   "source": [
    "The ```Agent``` and the ```Environment``` work in an interlaced way as in the following (take some time to understand this code as it is the core of the project)\n",
    "\n",
    "```python\n",
    "\n",
    "epoch = 300\n",
    "env = Environment()\n",
    "agent = Agent()\n",
    "\n",
    "\n",
    "# Number of won games\n",
    "score = 0\n",
    "loss = 0\n",
    "\n",
    "\n",
    "for e in range(epoch):\n",
    "    # At each epoch, we restart to a fresh game and get the initial state\n",
    "    state = env.reset()\n",
    "    # This assumes that the games will end\n",
    "    game_over = False\n",
    "\n",
    "    win = 0\n",
    "    lose = 0\n",
    "    \n",
    "    while not game_over:\n",
    "        # The agent performs an action\n",
    "        action = agent.act(state)\n",
    "\n",
    "        # Apply an action to the environment, get the next state, the reward\n",
    "        # and if the games end\n",
    "        prev_state = state\n",
    "        state, reward, game_over = env.act(action)\n",
    "\n",
    "        # Update the counters\n",
    "        if reward > 0:\n",
    "            win = win + reward\n",
    "        if reward < 0:\n",
    "            lose = lose -reward\n",
    "\n",
    "        # Apply the reinforcement strategy\n",
    "        loss = agent.reinforce(prev_state, state,  action, reward, game_over)\n",
    "\n",
    "    # Save as a mp4\n",
    "    if e % 10 == 0:\n",
    "        env.draw(e)\n",
    "\n",
    "    # Update stats\n",
    "    score += win-lose\n",
    "\n",
    "    print(\"Epoch {:03d}/{:03d} | Loss {:.4f} | Win/lose count {}/{} ({})\"\n",
    "          .format(e, epoch, loss, win, lose, win-lose))\n",
    "    agent.save()\n",
    "```"
   ]
  },
  {
   "cell_type": "markdown",
   "metadata": {},
   "source": [
    "# The game, *eat cheese*"
   ]
  },
  {
   "cell_type": "markdown",
   "metadata": {},
   "source": [
    "A rat runs on an island and tries to eat as much as possible. The island is subdivided into $N\\times N$ cells, in which there are cheese (+0.5) and poisonous cells (-1). The rat has a visibility of 2 cells (thus it can see $5^2$ cells). The rat is given a time $T$ to accumulate as much food as possible. It can perform 4 actions: going up, down, left, right. \n",
    "\n",
    "The goal is to code an agent to solve this task that will learn by trial and error. We propose the following environment:"
   ]
  },
  {
   "cell_type": "code",
   "execution_count": 112,
   "metadata": {},
   "outputs": [],
   "source": [
    "class Environment(object):\n",
    "    def __init__(self, grid_size=10, max_time=500, temperature=0.1):\n",
    "        grid_size = grid_size+4\n",
    "        self.grid_size = grid_size\n",
    "        self.max_time = max_time\n",
    "        self.temperature = temperature\n",
    "\n",
    "        #board on which one plays\n",
    "        self.board = np.zeros((grid_size,grid_size))\n",
    "        self.position = np.zeros((grid_size,grid_size))\n",
    "\n",
    "        # coordinate of the mouse\n",
    "        self.x = 0\n",
    "        self.y = 1\n",
    "\n",
    "        # self time\n",
    "        self.t = 0\n",
    "\n",
    "        self.scale=16\n",
    "\n",
    "        self.to_draw = np.zeros((max_time+2, grid_size*self.scale, grid_size*self.scale, 3))\n",
    "\n",
    "\n",
    "    def draw(self,e):\n",
    "        skvideo.io.vwrite(str(e) + '.mp4', self.to_draw)\n",
    "\n",
    "    def get_frame(self,t):\n",
    "        b = np.zeros((self.grid_size,self.grid_size,3))+128\n",
    "        b[self.board>0,0] = 256\n",
    "        b[self.board < 0, 2] = 256\n",
    "        b[self.x,self.y,:]=256\n",
    "        b[-2:,:,:]=0\n",
    "        b[:,-2:,:]=0\n",
    "        b[:2,:,:]=0\n",
    "        b[:,:2,:]=0\n",
    "        \n",
    "        b =  cv2.resize(b, None, fx=self.scale, fy=self.scale, interpolation=cv2.INTER_NEAREST)\n",
    "\n",
    "        self.to_draw[t,:,:,:]=b\n",
    "\n",
    "\n",
    "    def act(self, action):\n",
    "        \"\"\"This function returns the new state, reward and decides if the\n",
    "        game ends.\"\"\"\n",
    "\n",
    "        self.get_frame(int(self.t))\n",
    "\n",
    "        self.position = np.zeros((self.grid_size, self.grid_size))\n",
    "\n",
    "        self.position[0:2,:]= -1\n",
    "        self.position[:,0:2] = -1\n",
    "        self.position[-2:, :] = -1\n",
    "        self.position[-2:, :] = -1\n",
    "\n",
    "        self.position[self.x, self.y] = 1\n",
    "        if action == 0:\n",
    "            if self.x == self.grid_size-3:\n",
    "                self.x = self.x-1\n",
    "            else:\n",
    "                self.x = self.x + 1\n",
    "        elif action == 1:\n",
    "            if self.x == 2:\n",
    "                self.x = self.x+1\n",
    "            else:\n",
    "                self.x = self.x-1\n",
    "        elif action == 2:\n",
    "            if self.y == self.grid_size - 3:\n",
    "                self.y = self.y - 1\n",
    "            else:\n",
    "                self.y = self.y + 1\n",
    "        elif action == 3:\n",
    "            if self.y == 2:\n",
    "                self.y = self.y + 1\n",
    "            else:\n",
    "                self.y = self.y - 1\n",
    "        else:\n",
    "            RuntimeError('Error: action not recognized')\n",
    "\n",
    "        self.t = self.t + 1\n",
    "        reward = self.board[self.x, self.y]\n",
    "        self.board[self.x, self.y] = 0\n",
    "        game_over = self.t > self.max_time\n",
    "        state = np.concatenate((self.board.reshape(self.grid_size, self.grid_size,1),\n",
    "                        self.position.reshape(self.grid_size, self.grid_size,1)),axis=2)\n",
    "        state = state[self.x-2:self.x+3,self.y-2:self.y+3,:]\n",
    "\n",
    "        return state, reward, game_over\n",
    "\n",
    "    def reset(self):\n",
    "        \"\"\"This function resets the game and returns the initial state\"\"\"\n",
    "\n",
    "        self.x = np.random.randint(3, self.grid_size-3, size=1)[0]\n",
    "        self.y = np.random.randint(3, self.grid_size-3, size=1)[0]\n",
    "\n",
    "\n",
    "        bonus = 0.5*np.random.binomial(1,self.temperature,size=self.grid_size**2)\n",
    "        bonus = bonus.reshape(self.grid_size,self.grid_size)\n",
    "\n",
    "        malus = -1.0*np.random.binomial(1,self.temperature,size=self.grid_size**2)\n",
    "        malus = malus.reshape(self.grid_size, self.grid_size)\n",
    "\n",
    "        self.to_draw = np.zeros((self.max_time+2, self.grid_size*self.scale, self.grid_size*self.scale, 3))\n",
    "\n",
    "\n",
    "        malus[bonus>0]=0\n",
    "\n",
    "        self.board = bonus + malus\n",
    "\n",
    "        self.position = np.zeros((self.grid_size, self.grid_size))\n",
    "        self.position[0:2,:]= -1\n",
    "        self.position[:,0:2] = -1\n",
    "        self.position[-2:, :] = -1\n",
    "        self.position[-2:, :] = -1\n",
    "        self.board[self.x,self.y] = 0\n",
    "        self.t = 0\n",
    "\n",
    "        state = np.concatenate((\n",
    "                               self.board.reshape(self.grid_size, self.grid_size,1),\n",
    "                        self.position.reshape(self.grid_size, self.grid_size,1)),axis=2)\n",
    "\n",
    "        state = state[self.x - 2:self.x + 3, self.y - 2:self.y + 3, :]\n",
    "        return state"
   ]
  },
  {
   "cell_type": "markdown",
   "metadata": {},
   "source": [
    "The following elements are important because they correspond to the hyper parameters for this project:"
   ]
  },
  {
   "cell_type": "code",
   "execution_count": 113,
   "metadata": {},
   "outputs": [],
   "source": [
    "# parameters\n",
    "size = 13\n",
    "T=200\n",
    "temperature=0.3\n",
    "epochs_train=21 # set small when debugging\n",
    "epochs_test=21 # set small when debugging\n",
    "\n",
    "# display videos\n",
    "def display_videos(name):\n",
    "    video = io.open(name, 'r+b').read()\n",
    "    encoded = base64.b64encode(video)\n",
    "    return '''<video alt=\"test\" controls>\n",
    "                <source src=\"data:video/mp4;base64,{0}\" type=\"video/mp4\" />\n",
    "             </video>'''.format(encoded.decode('ascii'))"
   ]
  },
  {
   "cell_type": "markdown",
   "metadata": {},
   "source": [
    "__Question 2__ Explain the use of the arrays ```position``` and ```board```."
   ]
  },
  {
   "cell_type": "markdown",
   "metadata": {},
   "source": [
    "- The `board` is a matrix which contain the reward value on each cell. It will be set to 0 if the cheese or poison is taken.\n",
    "- The `position` is a matrix from 2 cells biggre then the board on every direction to fit the 5x5 vision of the mouse. It is set to -1 outside of the board, to 1 for the mouse position and 0 elsewhere."
   ]
  },
  {
   "cell_type": "markdown",
   "metadata": {},
   "source": [
    "## Random Agent"
   ]
  },
  {
   "cell_type": "markdown",
   "metadata": {},
   "source": [
    "***\n",
    "__Question 3__ Implement a random Agent (only ```learned_act``` needs to be implemented):"
   ]
  },
  {
   "cell_type": "code",
   "execution_count": 114,
   "metadata": {},
   "outputs": [],
   "source": [
    "class RandomAgent(Agent):\n",
    "    def __init__(self):\n",
    "        super(RandomAgent, self).__init__()\n",
    "        pass\n",
    "\n",
    "    def learned_act(self, s):\n",
    "        return np.random.randint(0,4)"
   ]
  },
  {
   "cell_type": "markdown",
   "metadata": {},
   "source": [
    "***\n",
    "***\n",
    "__Question 4__ Visualize the game moves. You need to fill in the following function for the evaluation:"
   ]
  },
  {
   "cell_type": "code",
   "execution_count": 115,
   "metadata": {},
   "outputs": [],
   "source": [
    "def test(agent,env,epochs,prefix=''):\n",
    "    # Number of won games\n",
    "    score = 0\n",
    "        \n",
    "    for e in range(epochs):\n",
    "        \n",
    "        ##### FILL IN HERE \n",
    "        state = env.reset()\n",
    "        # This assumes that the games will end\n",
    "        game_over = False\n",
    "\n",
    "        win = 0\n",
    "        lose = 0\n",
    "\n",
    "        while not game_over:\n",
    "            # The agent performs an action\n",
    "            action = agent.act(state)\n",
    "\n",
    "            # Apply an action to the environment, get the next state, the reward\n",
    "            # and if the games end\n",
    "            prev_state = state\n",
    "            state, reward, game_over = env.act(action)\n",
    "\n",
    "            # Update the counters\n",
    "            if reward > 0:\n",
    "                win = win + reward\n",
    "            if reward < 0:\n",
    "                lose = lose -reward\n",
    "        #####\n",
    "        \n",
    "        # Save as a mp4\n",
    "        env.draw(prefix+str(e))\n",
    "\n",
    "        # Update stats\n",
    "        score = score + win-lose\n",
    "\n",
    "        print(\"Win/lose count {}/{}. Average score ({})\"\n",
    "              .format(win, lose, score/(1+e)))\n",
    "    print('Final score: '+str(score/epochs))"
   ]
  },
  {
   "cell_type": "code",
   "execution_count": 116,
   "metadata": {},
   "outputs": [
    {
     "name": "stdout",
     "output_type": "stream",
     "text": [
      "Win/lose count 7.5/8.0. Average score (-0.5)\n",
      "Win/lose count 9.5/20.0. Average score (-5.5)\n",
      "Win/lose count 9.0/10.0. Average score (-4.0)\n",
      "Win/lose count 7.5/8.0. Average score (-3.125)\n",
      "Win/lose count 10.5/15.0. Average score (-3.4)\n",
      "Win/lose count 8.0/14.0. Average score (-3.8333333333333335)\n",
      "Win/lose count 7.5/16.0. Average score (-4.5)\n",
      "Win/lose count 11.0/13.0. Average score (-4.1875)\n",
      "Win/lose count 10.0/9.0. Average score (-3.611111111111111)\n",
      "Win/lose count 11.0/10.0. Average score (-3.15)\n",
      "Final score: -3.15\n"
     ]
    },
    {
     "data": {
      "text/html": [
       "<video alt=\"test\" controls>\n",
       "                <source src=\"data:video/mp4;base64,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\" type=\"video/mp4\" />\n",
       "             </video>"
      ],
      "text/plain": [
       "<IPython.core.display.HTML object>"
      ]
     },
     "execution_count": 116,
     "metadata": {},
     "output_type": "execute_result"
    }
   ],
   "source": [
    "# Initialize the game\n",
    "env = Environment(grid_size=size, max_time=T,temperature=temperature)\n",
    "\n",
    "# Initialize the agent!\n",
    "agent = RandomAgent()\n",
    "\n",
    "test(agent,env,10,prefix='random')\n",
    "HTML(display_videos('random0.mp4'))"
   ]
  },
  {
   "cell_type": "markdown",
   "metadata": {},
   "source": [
    "***\n",
    "## DQN"
   ]
  },
  {
   "cell_type": "markdown",
   "metadata": {},
   "source": [
    "Let us assume here that $T=\\infty$.\n",
    "\n",
    "***\n",
    "__Question 5__ Let $\\pi$ be a policy, show that:\n",
    "\n",
    "\\begin{equation*}\n",
    "Q^{\\pi}(s,a)=E_{(s',a')\\sim p(.|s,a)}[r(s,a)+\\gamma Q^{\\pi}(s',a')]\n",
    "\\end{equation*}\n",
    "\n",
    "Then, show that for the optimal policy $\\pi^*$ (we assume its existence), the following holds: \n",
    "\n",
    "\\begin{equation*}\n",
    "Q^{*}(s,a)=E_{s'\\sim \\pi^*(.|s,a)}[r(s,a)+\\gamma\\max_{a'}Q^{*}(s',a')].\n",
    "\\end{equation*}\n",
    "Finally, deduce that a plausible objective is:\n",
    "\n",
    "\\begin{equation*}\n",
    "\\mathcal{L}(\\theta)=E_{s' \\sim \\pi^*(.|s,a)}\\Vert r+\\gamma\\max\\max_{a'}Q(s',a',\\theta)-Q(s,a,\\theta)\\Vert^{2}.\n",
    "\\end{equation*}\n",
    "\n",
    "\n"
   ]
  },
  {
   "cell_type": "markdown",
   "metadata": {},
   "source": [
    "- $Q^\\pi$ satisfies the Bellman equation :\n",
    "$$\n",
    "Q^\\pi(s,a) = E_{p^{\\pi}}[\\sum_{t \\ge 0}\\gamma^{t}r(s_{t},a_{t}) | s_{0}=s,a_{0}=a] \\\\\n",
    "= E_{p^{\\pi}}[r(s_0,a_0) + \\gamma \\sum_{t \\ge 1}\\gamma^{t-1}r(s_{t},a_{t}) | s_{0}=s,a_{0}=a] \\\\\n",
    "= E_{(s',a')\\sim p^\\pi(.|s,a)}[r(s, a) + \\gamma E_{p^{\\pi}} [ \\sum_{t \\ge 0}\\gamma^{t}r(s_{t-1},a_{t-1}) | s_1=s', a_1=a' ] | s_{0}=s,a_{0}=a] \\\\\n",
    "= E_{(s',a')\\sim p^\\pi(.|s,a)}[r(s, a) + \\gamma Q^\\pi (s', a')]\n",
    "$$"
   ]
  },
  {
   "cell_type": "markdown",
   "metadata": {},
   "source": [
    "- Let $\\pi^*$ be the optimal policy such that $Q^* = Q^{\\pi^*}$ and $Q^{\\pi^*}(s, \\pi^*(s)) = max_a Q^{\\pi^*}(s, a)$ because of it's optimality.\n",
    "$$\n",
    "Q^*(s,a) = Q^{\\pi^*}(s,a) = E_{s' \\sim p(.|s,a)}[r(s, a) + \\gamma Q^{\\pi^*} (s', \\pi^*(s'))] \\\\\n",
    "= E_{s' \\sim p(.|s,a)}[r(s, a) + \\gamma \\max_{a'} Q^{\\pi^*} (s', a')]\n",
    "$$"
   ]
  },
  {
   "cell_type": "markdown",
   "metadata": {},
   "source": [
    "- In an optimal case we have \n",
    "$$\n",
    "Q^*(s,a) = E_{s' \\sim p(.|s,a)}[r(s, a) + \\gamma \\max_{a'} Q^* (s', a')] \\Rightarrow E_{s' \\sim p(.|s,a)}\\left[r(s, a) + \\gamma \\max_{a'} Q^* (s', a') - Q^*(s,a)\\right] = 0\n",
    "$$ \n",
    "In  order to approach this situation we might want to minimise the associated loss :\n",
    "$$ \\mathcal{L}(\\theta)=E_{s' \\sim p(.|s,a)}|| r+\\gamma\\max_{a'}Q(s',a',\\theta)-Q(s,a,\\theta)||^{2} $$\n",
    "with $\\theta$ the parameter that is conditioning the function $Q$"
   ]
  },
  {
   "cell_type": "markdown",
   "metadata": {},
   "source": [
    "***\n",
    "The DQN-learning algorithm relies on these derivations to train the parameters $\\theta$ of a Deep Neural Network:\n",
    "\n",
    "1. At the state $s_t$, select the action $a_t$ with best reward using $Q_t$ and store the results;\n",
    "\n",
    "2. Obtain the new state $s_{t+1}$ from the environment $p$;\n",
    "\n",
    "3. Store $(s_t,a_t,s_{t+1})$;\n",
    "\n",
    "4. Obtain $Q_{t+1}$ by minimizing  $\\mathcal{L}$ from a recovered batch from the previously stored results.\n",
    "\n",
    "***\n",
    "__Question 6__ Implement the class ```Memory``` that stores moves (in a replay buffer) via ```remember``` and provides a ```random_access``` to these. Specify a maximum memory size to avoid side effects. You can for example use a ```list()``` and set by default ```max_memory=100```."
   ]
  },
  {
   "cell_type": "code",
   "execution_count": 117,
   "metadata": {},
   "outputs": [],
   "source": [
    "class Memory(object):\n",
    "    def __init__(self, max_memory=100):\n",
    "        self.max_memory = max_memory\n",
    "        self.memory = list()\n",
    "\n",
    "    def remember(self, m):\n",
    "        if len(self.memory) >= self.max_memory :\n",
    "            self.memory.pop(0)\n",
    "        self.memory.append(m)\n",
    "\n",
    "    def random_access(self):\n",
    "        return self.memory[np.random.randint(0, len(self.memory))]"
   ]
  },
  {
   "cell_type": "markdown",
   "metadata": {},
   "source": [
    "***\n",
    "The pipeline we will use for training is given below:"
   ]
  },
  {
   "cell_type": "code",
   "execution_count": 118,
   "metadata": {},
   "outputs": [],
   "source": [
    "def train(agent,env,epoch,prefix=''):\n",
    "    # Number of won games\n",
    "    score = 0\n",
    "    loss = 0\n",
    "\n",
    "    for e in range(epoch):\n",
    "        # At each epoch, we restart to a fresh game and get the initial state\n",
    "        state = env.reset()\n",
    "        # This assumes that the games will terminate\n",
    "        game_over = False\n",
    "\n",
    "        win = 0\n",
    "        lose = 0\n",
    "\n",
    "        while not game_over:\n",
    "            # The agent performs an action\n",
    "            action = agent.act(state)\n",
    "\n",
    "            # Apply an action to the environment, get the next state, the reward\n",
    "            # and if the games end\n",
    "            prev_state = state\n",
    "            state, reward, game_over = env.act(action)\n",
    "\n",
    "            # Update the counters\n",
    "            if reward > 0:\n",
    "                win = win + reward\n",
    "            if reward < 0:\n",
    "                lose = lose -reward\n",
    "\n",
    "            # Apply the reinforcement strategy\n",
    "            loss = agent.reinforce(prev_state, state,  action, reward, game_over)\n",
    "\n",
    "        # Save as a mp4\n",
    "        if e % 10 == 0:\n",
    "            env.draw(prefix+str(e))\n",
    "\n",
    "        # Update stats\n",
    "        score += win-lose\n",
    "\n",
    "        print(\"Epoch {:03d}/{:03d} | Loss {:.4f} | Win/lose count {}/{} ({})\"\n",
    "              .format(e, epoch, loss, win, lose, win-lose))\n",
    "        agent.save(name_weights=prefix+'model.h5',name_model=prefix+'model.json')"
   ]
  },
  {
   "cell_type": "markdown",
   "metadata": {},
   "source": [
    "***\n",
    "__Question 7__ Implement the DQN training algorithm using a cascade of fully connected layers. You can use different learning rate, batch size or memory size parameters. In particular, the loss might oscillate while the player will start to win the games. You have to find a good criterium."
   ]
  },
  {
   "cell_type": "code",
   "execution_count": 119,
   "metadata": {},
   "outputs": [],
   "source": [
    "class DQN(Agent):\n",
    "    def __init__(self, grid_size,  epsilon = 0.1, memory_size=100, batch_size = 16,n_state=2):\n",
    "        super(DQN, self).__init__(epsilon = epsilon)\n",
    "\n",
    "        # Discount for Q learning\n",
    "        self.discount = 0.99\n",
    "        \n",
    "        self.grid_size = grid_size\n",
    "        \n",
    "        # number of state\n",
    "        self.n_state = n_state\n",
    "\n",
    "        # Memory\n",
    "        self.memory = Memory(memory_size)\n",
    "        \n",
    "        # Batch size when learning\n",
    "        self.batch_size = batch_size\n",
    "\n",
    "    def learned_act(self, s):\n",
    "        # Return the prediction of the agents model\n",
    "        return np.argmax(self.model.predict(s[None]))\n",
    "\n",
    "    def reinforce(self, s_, n_s_, a_, r_, game_over_):\n",
    "        \n",
    "        # Two steps: first memorize the states, second learn from the pool\n",
    "        self.memory.remember([s_, n_s_, a_, r_, game_over_])\n",
    "        \n",
    "        input_states = np.zeros((self.batch_size, 5,5,self.n_state))\n",
    "        target_q = np.zeros((self.batch_size, 4))\n",
    "        \n",
    "        for i in range(self.batch_size):\n",
    "            \n",
    "            ######## FILL IN\n",
    "            # Set up the batch item from memory element\n",
    "            s_, n_s_, a_, r_, game_over_ = self.memory.random_access()\n",
    "            input_states[i] = s_\n",
    "            target_q[i] = self.model.predict(s_[None])\n",
    "            if not game_over_:\n",
    "                # Update Q according to the previous prediction\n",
    "                pred_q = self.model.predict(n_s_[None])\n",
    "                target_q[i, a_] = r_ + self.discount * np.max(pred_q)\n",
    "            ########\n",
    "            \n",
    "        # HINT: Clip the target to avoid exploiding gradients.. -- clipping is a bit tighter\n",
    "        target_q = np.clip(target_q, -3, 3)\n",
    "\n",
    "        l = self.model.train_on_batch(input_states, target_q)\n",
    "\n",
    "        return l\n",
    "\n",
    "    def save(self,name_weights='model.h5',name_model='model.json'):\n",
    "        self.model.save_weights(name_weights, overwrite=True)\n",
    "        with open(name_model, \"w\") as outfile:\n",
    "            json.dump(self.model.to_json(), outfile)\n",
    "            \n",
    "    def load(self,name_weights='model.h5',name_model='model.json'):\n",
    "        with open(name_model, \"r\") as jfile:\n",
    "            model = model_from_json(json.load(jfile))\n",
    "        model.load_weights(name_weights)\n",
    "        model.compile(\"sgd\", \"mse\")\n",
    "        self.model = model\n",
    "\n",
    "            \n",
    "class DQN_FC(DQN):\n",
    "    def __init__(self, *args, lr=0.1,**kwargs):\n",
    "        super(DQN_FC, self).__init__( *args,**kwargs)\n",
    "        \n",
    "        # NN Model\n",
    "        ####### FILL IN\n",
    "        model = Sequential()\n",
    "        model.add(Flatten(input_shape=(5, 5, self.n_state)))\n",
    "        model.add(Dense(32, activation=\"tanh\"))\n",
    "        model.add(Dense(16, activation=\"tanh\"))\n",
    "        model.add(Dense(4, activation=None))\n",
    "        ########\n",
    "        \n",
    "        model.compile(Adam(lr=lr), \"mse\")\n",
    "        self.model = model\n",
    "        "
   ]
  },
  {
   "cell_type": "code",
   "execution_count": 120,
   "metadata": {
    "scrolled": true
   },
   "outputs": [
    {
     "name": "stdout",
     "output_type": "stream",
     "text": [
      "Epoch 000/021 | Loss 0.0014 | Win/lose count 5.0/5.0 (0.0)\n",
      "Epoch 001/021 | Loss 0.0015 | Win/lose count 7.0/3.0 (4.0)\n",
      "Epoch 002/021 | Loss 0.0020 | Win/lose count 9.0/5.0 (4.0)\n",
      "Epoch 003/021 | Loss 0.0042 | Win/lose count 7.5/5.0 (2.5)\n",
      "Epoch 004/021 | Loss 0.0039 | Win/lose count 4.5/5.0 (-0.5)\n",
      "Epoch 005/021 | Loss 0.0008 | Win/lose count 8.5/4.0 (4.5)\n",
      "Epoch 006/021 | Loss 0.0006 | Win/lose count 9.0/6.0 (3.0)\n",
      "Epoch 007/021 | Loss 0.0012 | Win/lose count 20.5/9.0 (11.5)\n",
      "Epoch 008/021 | Loss 0.0011 | Win/lose count 9.0/5.0 (4.0)\n",
      "Epoch 009/021 | Loss 0.0008 | Win/lose count 15.0/3.0 (12.0)\n",
      "Epoch 010/021 | Loss 0.0006 | Win/lose count 18.0/3.0 (15.0)\n",
      "Epoch 011/021 | Loss 0.0009 | Win/lose count 8.5/6.0 (2.5)\n",
      "Epoch 012/021 | Loss 0.0004 | Win/lose count 8.5/2.0 (6.5)\n",
      "Epoch 013/021 | Loss 0.0004 | Win/lose count 16.0/7.0 (9.0)\n",
      "Epoch 014/021 | Loss 0.0004 | Win/lose count 14.0/8.0 (6.0)\n",
      "Epoch 015/021 | Loss 0.0002 | Win/lose count 20.5/5.0 (15.5)\n",
      "Epoch 016/021 | Loss 0.0003 | Win/lose count 11.5/4.0 (7.5)\n",
      "Epoch 017/021 | Loss 0.0002 | Win/lose count 15.0/4.0 (11.0)\n",
      "Epoch 018/021 | Loss 0.0005 | Win/lose count 12.5/6.0 (6.5)\n",
      "Epoch 019/021 | Loss 0.0002 | Win/lose count 8.5/4.0 (4.5)\n",
      "Epoch 020/021 | Loss 0.0001 | Win/lose count 15.5/2.0 (13.5)\n"
     ]
    }
   ],
   "source": [
    "env = Environment(grid_size=size, max_time=T, temperature=0.3)\n",
    "agent = DQN_FC(size, lr=.01, epsilon = 0.2, memory_size=2000, batch_size = 64)\n",
    "train(agent, env, epochs_train, prefix='fc_train')"
   ]
  },
  {
   "cell_type": "code",
   "execution_count": 121,
   "metadata": {},
   "outputs": [
    {
     "data": {
      "text/html": [
       "<video alt=\"test\" controls>\n",
       "                <source src=\"data:video/mp4;base64,AAAAIGZ0eXBpc29tAAACAGlzb21pc28yYXZjMW1wNDEAAAAIZnJlZQAAGJJtZGF0AAACrQYF//+p3EXpvebZSLeWLNgg2SPu73gyNjQgLSBjb3JlIDE1MiByMjg1NCBlOWE1OTAzIC0gSC4yNjQvTVBFRy00IEFWQyBjb2RlYyAtIENvcHlsZWZ0IDIwMDMtMjAxNyAtIGh0dHA6Ly93d3cudmlkZW9sYW4ub3JnL3gyNjQuaHRtbCAtIG9wdGlvbnM6IGNhYmFjPTEgcmVmPTMgZGVibG9jaz0xOjA6MCBhbmFseXNlPTB4MToweDExMSBtZT1oZXggc3VibWU9NyBwc3k9MSBwc3lfcmQ9MS4wMDowLjAwIG1peGVkX3JlZj0xIG1lX3JhbmdlPTE2IGNocm9tYV9tZT0xIHRyZWxsaXM9MSA4eDhkY3Q9MCBjcW09MCBkZWFkem9uZT0yMSwxMSBmYXN0X3Bza2lwPTEgY2hyb21hX3FwX29mZnNldD00IHRocmVhZHM9OCBsb29rYWhlYWRfdGhyZWFkcz0xIHNsaWNlZF90aHJlYWRzPTAgbnI9MCBkZWNpbWF0ZT0xIGludGVybGFjZWQ9MCBibHVyYXlfY29tcGF0PTAgY29uc3RyYWluZWRfaW50cmE9MCBiZnJhbWVzPTMgYl9weXJhbWlkPTIgYl9hZGFwdD0xIGJfYmlhcz0wIGRpcmVjdD0xIHdlaWdodGI9MSBvcGVuX2dvcD0wIHdlaWdodHA9MiBrZXlpbnQ9MjUwIGtleWludF9taW49MjUgc2NlbmVjdXQ9NDAgaW50cmFfcmVmcmVzaD0wIHJjX2xvb2thaGVhZD00MCByYz1jcmYgbWJ0cmVlPTEgY3JmPTIzLjAgcWNvbXA9MC42MCBxcG1pbj0wIHFwbWF4PTY5IHFwc3RlcD00IGlwX3JhdGlvPTEuNDAgYXE9MToxLjAwAIAAAAMEZYiEADP//vaG+BTYUyP+T7/8I/+5H7cfWfrixkIJvrVeQ9GAMl8a/5lGYaXpyc8t7R+vTNAEZz8ZS8pZp9o/ApmtrL5lb/cBMbKtQAljameJRa0CxUKKCbYbadG9xRzX/5pMB3L59PklGOawRkklbwRFAmnn5qx8+YHtjmtnBPwQub/YOMAP7g4T/D6MnQV+3YsnWmaEU+dZS1v+cU+CECnz6fztj97CzKCRcBKM8ClS6VSbna0JkP2t93onEgr+5cfNM8g0cY6uLeMsKAZ766F9x3J32MPEx6CPjAJEjsT9VrHn7j7qR5G/F0DT7nJQphS70Fta0b4ywVDvGUXiMqf3lXSHkXN3UKr8TtHyC3YeFEVIpD6ZenqYod/Tiq6eBagror8C8yCkxHr/VnMp43uZyIhI6RRFPxfJH42qplSsFiKqsVcyDG25ESBjBdCt00ET86IzSrfrlzSAoTKPUVEvBXJz3w3WWLnW5JmWJZ07+/yKO3+TVteqzGmkDJ1Cj5zMlZBfKF8tvtNTiPIgdGfwEeMBPFjARLhrDeRg5yDj2XrcywBzj5z4xetHXA9jiT9QUnC1oDZ+2ufv2r9tP38hgfX6GfEPjJ53K4dG3z3F4h5d8MYL3Jl4AoE/H/XsAL2Q3HH6M3EdlSvAZSP5fkNZ6A2k4wH6/Rv/Pbk16gPkwAUQArb7GdzPMFhdnESiKuX03tjXHaBJcyCnYgs7XtNX9QgFM/LLQZ0YSVGWBBxe/kSBs9bt8UzR38nI4083n8IwPPdMSkW38YN7WtFtq8rgPZF6eHhYwozSSa5T9QESdvABBFYsD6aNjDWDtjmuLHoNuRAdQvVXLbtyH47Wsyf+UmZq/RIFPrN9SKm517bLl1HbbK9WtYiVAp+V/o7zoXmAaJl7w+XcpjjhwT5h5fALOZKIEfolKfrNVe+UHZcI82Ty8YYf7WCMa1JsJTEi+VObUhH0cATRcm9Bw6EPoRspMqg3ps8lf8O10Q65sDtUeBadOz7+PAQw9yS6UNYbAADmgQAAABRBmiFsQ3/+p4QAZ32D/DRrdCTegAAAABdBmkI8IZMphDf//qeEAENHzHkYn+W3cQAAABlBmmNJ4Q8mUwId//6plgAjBRzrQ9X3yIfAAAAAKkGah0nhDyZTAh3//qmWADqew3zLK1TVeBSiQLwKZrliu2P7tKPO28IC8wAAABZBnqVFETwv/wBFc+6Wcn7tWvbFUUOBAAAADwGexHRCvwA7cUmN6gjXdwAAABABnsZqQr8AX52pbhs2ptCBAAAAEkGay0moQWiZTAhv//6nhAABJwAAABxBnulFESwv/wBEosnW3SC/xB7//+IQXxP/8kYIAAAAEAGfCHRCvwBfgFM8r8lNoPEAAAAQAZ8KakK/AF+duE3GfXpweAAAABtBmw5JqEFsmUwIZ//+nhABxvf39KPQAxUKT4AAAAATQZ8sRRUsK/8AX4lv4D9PWb1SQQAAABABn01qQr8APiahzfD+JJMxAAAAGkGbT0moQWyZTAhv//6nhAAyfsH+E4LdCXHBAAAAG0GbcknhClJlMCGf/p4QAH99ffpte5oiPqjfQAAAABFBn5BFNEwr/wAbBm5rj3vVAwAAAA8Bn7FqQr8AGwJaVIoEq+kAAAAZQZuzSahBaJlMCGf//p4QAFI902MuTZVybAAAABlBm9RJ4QpSZTAhv/6nhAAUj3U/UcaEh1JAAAAAGUGb9UnhDomUwIb//qeEAA0/sH+E4LdCrEEAAAApQZoYSeEPJlMCG//+p4QACHfHT7VebnnJGQ5llc9yPApUtC4FM7AyOUAAAAATQZ42RRE8K/8ABuiW/gP09ZwVwQAAABABnldqQr8ABJbWu3tYZL3hAAAAHEGaWUmoQWiZTAh3//6plgAB3R0/KaVQOH+2OaAAAAAcQZp8SeEKUmUwId/+qZYAAegdPxFJMubVXcY/aQAAAA9BnppFNEwr/wADJEaB/kAAAAANAZ67akK/AAMlYkW/8wAAABJBmqBJqEFomUwIb//+p4QAAScAAAAMQZ7eRREsL/8AALKAAAAAEAGe/XRCvwAE2EAdCxiceDAAAAAPAZ7/akK/AAMbnJus9WkzAAAAEkGa5EmoQWyZTAhn//6eEAAEfAAAAAxBnwJFFSwv/wAAsoEAAAAQAZ8hdEK/AAMbnJxHZdo5gAAAAA8BnyNqQr8AAxucm6z1aTMAAAAaQZslSahBbJlMCG///qeEAAX2kT/Ujo5F+MEAAAAZQZtGSeEKUmUwIb/+p4QACSoAs22z7PntQQAAABpBm2lJ4Q6JlMCG//6nhAAJarAs2fB/ocrfpwAAABJBn4dFETwr/wAHmVwa49715oAAAAAPAZ+oakK/AAeYH9UigSwxAAAAHUGbrUmoQWiZTAhn//6eEAAYhu5muQe5Pd03qeDhAAAAEEGfy0URLC//AAO2nrIKBlAAAAAPAZ/qdEK/AATW0YuA/PBgAAAAEAGf7GpCvwAFHsI8lzPlcIEAAAAYQZvuSahBbJlMCG///qeEAAZG0nvhgRxxAAAAHEGaEEnhClJlMFFSw3/+p4QABifYP85UhFQjomkAAAAQAZ4vakK/AAT5r5zrQwwwwAAAABhBmjFJ4Q6JlMCG//6nhAADz+wevZnwRocAAAAdQZpTSeEPJlMFFTw3//6nhAAFqxWzE/1dvjT+S2UAAAAQAZ5yakK/AASXaITcZ9exqAAAABhBmnVJ4Q8mUwU8N//+p4QABawUHp/wlsgAAAAQAZ6UakK/AASWWQw+gJB+iQAAABpBmplJ4Q8mUwIb//6nhAAF1+NOooPOd/FrgAAAABBBnrdFETwv/wADdKmhaigJAAAADwGe1nRCvwADEJKIUwUBgQAAABABnthqQr8ABLXmiZE0rUTAAAAAGkGa2kmoQWiZTAhv//6nhAAFs+NOgrWZTk2BAAAAGUGa+0nhClJlMCHf/qmWAALN76vrsQbiurAAAAAcQZsfSeEOiZTAh3/+qZYAArgI5/OkdpfvhnOdsQAAABBBnz1FETwv/wADOCOM45PlAAAAEAGfXHRCvwAEV9RInxZipHAAAAAPAZ9eakK/AARYNYF1/lfAAAAAEkGbQ0moQWiZTAhv//6nhAABJwAAABFBn2FFESwv/wADOORK7yIUgAAAABABn4B0Qr8ABFXak8r8lPBxAAAAEAGfgmpCvwAEdeaJkTStScAAAAAWQZuHSahBbJlMCGf//p4QAB/fX39F/wAAAA5Bn6VFFSwv/wAE+ZU3oQAAABABn8R0Qr8ABsLKu6vx3jWhAAAADwGfxmpCvwAEdeaILUeZbwAAABlBm8hJqEFsmUwIZ//+nhAAFR902MuTZWCMAAAAGEGb6UnhClJlMCG//qeEAAVH3U4/w+rciwAAAB1BmgtJ4Q6JlMFNEw3//qeEAAUj3U+7y6f2C4CTMQAAAA8BnipqQr8ABBZMpm2ZHWYAAAAZQZosSeEPJlMCG//+p4QAB2jjP9VvmPx3oAAAABlBmk1J4Q8mUwId//6plgADv+0vC1BP7DmhAAAAHUGacUnhDyZTAhv//qeEAAdH4DD5/arRbnBNFAZhAAAAFEGej0URPC//AARWf7pmCy43T1cXAAAADwGernRCvwAF+APik2yWWQAAABABnrBqQr8AA8yuDXHirdEgAAAAHEGas0moQWiZTBTw7/6plgACcFHRAs0B3fRj2RsAAAAQAZ7SakK/AAPizB5MD198gAAAABFBmtdJ4QpSZTAhv/6nhAABJwAAABNBnvVFNEwv/wAElj50ziup7FGVAAAAEAGfFHRCvwAGSkWVeBFef4AAAAAPAZ8WakK/AAZIlpUigSyTAAAAGkGbGEmoQWiZTAh3//6plgACc/HnSzo6noPBAAAAEkGbPEnhClJlMCHf/qmWAACVgAAAABNBn1pFNEwv/wAC15LZqZllyGxdAAAAEAGfeXRCvwADy8MBklv9wMAAAAAQAZ97akK/AAPMzwh40NbRgQAAABNBm2BJqEFomUwId//+qZYAAJWBAAAADEGfnkURLC//AACygAAAABABn710Qr8AA8Khu6dl2hCAAAAAEAGfv2pCvwADwqG9itH3aYEAAAATQZukSahBbJlMCHf//qmWAACVgAAAABRBn8JFFSwv/wAEdj50ziunvD9B6QAAABABn+F0Qr8ABiJFlXgRXoSAAAAADwGf42pCvwAGIJaVIoEsowAAABNBm+hJqEFsmUwId//+qZYAAJWBAAAADEGeBkUVLC//AACygQAAABABniV0Qr8AA8Khu6dl2hCBAAAAEAGeJ2pCvwADwqG9itH3aYAAAAATQZosSahBbJlMCHf//qmWAACVgAAAABRBnkpFFSwv/wACz0hedo46Zyq2xQAAABABnml0Qr8AA+LYGtplD5/AAAAAEAGea2pCvwADzM+Y3Q5IQHgAAAAZQZpwSahBbJlMCG///qeEAAS746fdb4711QAAABBBno5FFSwv/wAC10CK0pF9AAAADwGerXRCvwAD4tga6+NvgQAAABABnq9qQr8AA+KuDXHirc/gAAAAHEGatEmoQWyZTAhv//6nhAAE9xWqY/1bt9g/ZCgAAAAQQZ7SRRUsL/8AAvwjd7hrwQAAAA8BnvF0Qr8AA/kYeUNAzt8AAAAPAZ7zakK/AAP5YEuV/l9AAAAAGUGa9UmoQWyZTAhv//6nhAAE/91OP8Pq3JsAAAAZQZsWSeEKUmUwId/+qZYAAnPx50s6Op6DwAAAABFBmzpJ4Q6JlMCG//6nhAABJwAAABNBn1hFETwv/wAC15LZqZllyGxdAAAAEAGfd3RCvwADy8MBklv9wMAAAAAQAZ95akK/AAPMzwh40NbRgQAAABlBm35JqEFomUwIb//+p4QABLvjp9zJQeFiAAAAEEGfnEURLC//AALXQIKUPhkAAAAPAZ+7dEK/AAPMXoDJLxCBAAAAEAGfvWpCvwADzAvOdaGGKEAAAAAaQZugSahBbJlMFEw3//6nhAAEtUHd2+wfslQAAAAQAZ/fakK/AAPMzwh40NbRgQAAABhBm8NJ4QpSZTAhn/6eEAAcQpxz+HOb7H0AAAASQZ/hRTRMK/8ABfnbhdhvpe75AAAAEAGeAmpCvwAGIBY17zStLMAAAAAZQZoESahBaJlMCGf//p4QABxvf3dpzdxfEwAAABtBmiVJ4QpSZTAhn/6eEAArHBjn8OfECE/uhYEAAAAYQZpGSeEOiZTAhn/+nhAAQU4Rz9GA7NK/AAAAGEGaZ0nhDyZTAhv//qeEABpaRP9SkArbwQAAABlBmohJ4Q8mUwIb//6nhAAo3on+q3zH4lJAAAAAMEGaqknhDyZTBRE8N//+p4QAYm4s/8QgB//CVEFmL//CTEfi//1/9NX+B/fwqp52PAAAABABnslqQr8AT6x45X9uH4LBAAAAGUGazUnhDyZTAhn//p4QAYdfcX/iOoS3D4AAAAAPQZ7rRRE8K/8AUdrcNeVAAAAADQGfDGpCvwBR+Ui3rysAAAAaQZsOSahBaJlMCG///qeEAJqgCzbbPs+aScEAAAAZQZsvSeEKUmUwIb/+p4QA7Bxn+q3zH4g3oQAAABpBm1BJ4Q6JlMCHf/6plgDCxYbot3VRm/qpqQAAABZBm3RJ4Q8mUwIb//6nhAGR8dPsSOWAAAAADkGfkkURPC//AOH+3rjhAAAAEAGfsXRCvwE23HeYJY2ilfAAAAAPAZ+zakK/AStYtsM9WekHAAAAGkGbt0moQWiZTAhv//6nhAGC9HPtpBboN3pBAAAAD0Gf1UURLCv/AS6VwJLWwAAAAA0Bn/ZqQr8BLw1h4pa3AAAAHEGb+0moQWyZTAhn//6eEAOf6+/qFvc1x9aXq+EAAAAQQZ4ZRRUsL/8AjtAcvIoG4AAAABABnjh0Qr8Aw4CmeV+SmzBxAAAADwGeOmpCvwB/K+aHWirRgAAAABpBmjxJqEFsmUwIb//+p4QAn3x0+o40JDhUwQAAABlBml1J4QpSZTAhv/6nhABnfYP8JwW6Em9BAAAAGUGafknhDomUwId//qmWACE/Hn79kG4qFOAAAAAbQZqCSeEPJlMCG//+p4QAK17qftV5tURkZAn8AAAAEEGeoEURPC//ABnBFItxtmEAAAAQAZ7fdEK/ACKuzHAfk///oAAAAA8BnsFqQr8AFrja7vu+FCEAAAAbQZrESahBaJlMFPDf/qeEABHvjp9wU7CaJoSwAAAAEAGe42pCvwAOgEAnXgCgXYEAAAAZQZrlSeEKUmUwId/+qZYAA7/tLwtQT+w5oQAAABlBmwhJ4Q6JlMCHf/6plgADqfCj67EG4rQRAAAAEkGfJkURPCv/AAX4jtzrJ8pdgQAAAA4Bn0dqQr8ABfrELverLgAAABNBm0xJqEFomUwId//+qZYAAJWAAAAADEGfakURLC//AACygQAAABABn4l0Qr8AA8KhvZdV/F/AAAAAEAGfi2pCvwADwqG9itH3aYAAAAATQZuQSahBbJlMCHf//qmWAACVgQAAAAxBn65FFSwv/wAAsoEAAAAQAZ/NdEK/AAPCobunZdoQgQAAABABn89qQr8ABfkrYvV2HP7AAAAAHEGb1EmoQWyZTAhv//6nhAAEu+On3MjC2YoR0sQAAAAQQZ/yRRUsL/8AAtdAgpQ+GQAAAA8BnhF0Qr8ABfrKu7zeC8AAAAAPAZ4TakK/AAPMD+qRQJbzAAAAGkGaFkmoQWyZTBRMO//+qZYAAmCpw/32l96xAAAAEAGeNWpCvwADzM8IeNDW0YAAAAAYQZo6SeEKUmUwIb/+p4QABLvjp9zJQeFjAAAAFUGeWEU0TC//AALWyxWVemcstTYBSQAAABABnnd0Qr8AA+LYGtplD5/AAAAADwGeeWpCvwACjtZTNsyPfwAAABlBmnxJqEFomUwU8N/+p4QABLVtLmb3U+RbAAAAEAGem2pCvwADzM8IeNDW0YEAAAAcQZqeSeEKUmUwUsN//qeEAAdoHhxY1Q/3x08eJQAAABABnr1qQr8ABiHaluGzayuAAAAAGUGaoUnhDomUwIb//qeEAAdz2D/CcFuhf0AAAAASQZ7fRRU8K/8ACW9Ou7wKao2BAAAADgGe4GpCvwAJbK68Btq6AAAAEkGa5UmoQWiZTAhn//6eEAAEfQAAABNBnwNFESwv/wAC6ZLZqZllyGw8AAAAEAGfInRCvwAD4cTxSbZLdIEAAAAQAZ8kakK/AAPizB5MD198gQAAABpBmylLqEIQWyRGCCgH8gH9h4AhX/44QAARcQAAACpBn0dFFSwv/wIB3OpL2zMKuYDoGrWoXAlAGWiTwt8zHGw6wm90Af5fskEAAAAQAZ9mdEK/AAZKRZV4EV5/gAAAACUBn2hqQr8Cr2PtQcTdqsNJJuWqhgcstbvNKiCaPXWr3uwSQo2AAAALqG1vb3YAAABsbXZoZAAAAAAAAAAAAAAAAAAAA+gAAB+QAAEAAAEAAAAAAAAAAAAAAAABAAAAAAAAAAAAAAAAAAAAAQAAAAAAAAAAAAAAAAAAQAAAAAAAAAAAAAAAAAAAAAAAAAAAAAAAAAAAAAAAAAIAAArSdHJhawAAAFx0a2hkAAAAAwAAAAAAAAAAAAAAAQAAAAAAAB+QAAAAAAAAAAAAAAAAAAAAAAABAAAAAAAAAAAAAAAAAAAAAQAAAAAAAAAAAAAAAAAAQAAAAAEQAAABEAAAAAAAJGVkdHMAAAAcZWxzdAAAAAAAAAABAAAfkAAABAAAAQAAAAAKSm1kaWEAAAAgbWRoZAAAAAAAAAAAAAAAAAAAMgAAAZQAVcQAAAAAAC1oZGxyAAAAAAAAAAB2aWRlAAAAAAAAAAAAAAAAVmlkZW9IYW5kbGVyAAAACfVtaW5mAAAAFHZtaGQAAAABAAAAAAAAAAAAAAAkZGluZgAAABxkcmVmAAAAAAAAAAEAAAAMdXJsIAAAAAEAAAm1c3RibAAAAJVzdHNkAAAAAAAAAAEAAACFYXZjMQAAAAAAAAABAAAAAAAAAAAAAAAAAAAAAAEQARAASAAAAEgAAAAAAAAAAQAAAAAAAAAAAAAAAAAAAAAAAAAAAAAAAAAAAAAAAAAAABj//wAAAC9hdmNDAfQADf/hABdn9AANkZsoIhHQgAAAAwCAAAAZB4oUywEABWjr48RIAAAAGHN0dHMAAAAAAAAAAQAAAMoAAAIAAAAAFHN0c3MAAAAAAAAAAQAAAAEAAAWAY3R0cwAAAAAAAACuAAAABAAABAAAAAABAAAKAAAAAAEAAAQAAAAAAQAAAAAAAAABAAACAAAAAAEAAAoAAAAAAQAABAAAAAABAAAAAAAAAAEAAAIAAAAAAQAACAAAAAACAAACAAAAAAEAAAQAAAAAAQAACAAAAAACAAACAAAAAAMAAAQAAAAAAQAACAAAAAACAAACAAAAAAEAAAQAAAAAAQAACAAAAAACAAACAAAAAAEAAAoAAAAAAQAABAAAAAABAAAAAAAAAAEAAAIAAAAAAQAACgAAAAABAAAEAAAAAAEAAAAAAAAAAQAAAgAAAAACAAAEAAAAAAEAAAgAAAAAAgAAAgAAAAABAAAKAAAAAAEAAAQAAAAAAQAAAAAAAAABAAACAAAAAAEAAAQAAAAAAQAABgAAAAABAAACAAAAAAEAAAQAAAAAAQAABgAAAAABAAACAAAAAAEAAAYAAAAAAQAAAgAAAAABAAAKAAAAAAEAAAQAAAAAAQAAAAAAAAABAAACAAAAAAIAAAQAAAAAAQAACgAAAAABAAAEAAAAAAEAAAAAAAAAAQAAAgAAAAABAAAKAAAAAAEAAAQAAAAAAQAAAAAAAAABAAACAAAAAAEAAAoAAAAAAQAABAAAAAABAAAAAAAAAAEAAAIAAAAAAgAABAAAAAABAAAGAAAAAAEAAAIAAAAAAgAABAAAAAABAAAKAAAAAAEAAAQAAAAAAQAAAAAAAAABAAACAAAAAAEAAAYAAAAAAQAAAgAAAAABAAAKAAAAAAEAAAQAAAAAAQAAAAAAAAABAAACAAAAAAEAAAQAAAAAAQAACgAAAAABAAAEAAAAAAEAAAAAAAAAAQAAAgAAAAABAAAKAAAAAAEAAAQAAAAAAQAAAAAAAAABAAACAAAAAAEAAAoAAAAAAQAABAAAAAABAAAAAAAAAAEAAAIAAAAAAQAACgAAAAABAAAEAAAAAAEAAAAAAAAAAQAAAgAAAAABAAAKAAAAAAEAAAQAAAAAAQAAAAAAAAABAAACAAAAAAEAAAoAAAAAAQAABAAAAAABAAAAAAAAAAEAAAIAAAAAAQAACgAAAAABAAAEAAAAAAEAAAAAAAAAAQAAAgAAAAACAAAEAAAAAAEAAAoAAAAAAQAABAAAAAABAAAAAAAAAAEAAAIAAAAAAQAACgAAAAABAAAEAAAAAAEAAAAAAAAAAQAAAgAAAAABAAAGAAAAAAEAAAIAAAAAAQAACAAAAAACAAACAAAAAAUAAAQAAAAAAQAABgAAAAABAAACAAAAAAEAAAgAAAAAAgAAAgAAAAADAAAEAAAAAAEAAAoAAAAAAQAABAAAAAABAAAAAAAAAAEAAAIAAAAAAQAACAAAAAACAAACAAAAAAEAAAoAAAAAAQAABAAAAAABAAAAAAAAAAEAAAIAAAAAAwAABAAAAAABAAAKAAAAAAEAAAQAAAAAAQAAAAAAAAABAAACAAAAAAEAAAYAAAAAAQAAAgAAAAABAAAEAAAAAAEAAAgAAAAAAgAAAgAAAAABAAAKAAAAAAEAAAQAAAAAAQAAAAAAAAABAAACAAAAAAEAAAoAAAAAAQAABAAAAAABAAAAAAAAAAEAAAIAAAAAAQAACgAAAAABAAAEAAAAAAEAAAAAAAAAAQAAAgAAAAABAAAGAAAAAAEAAAIAAAAAAQAACgAAAAABAAAEAAAAAAEAAAAAAAAAAQAAAgAAAAABAAAGAAAAAAEAAAIAAAAAAQAABgAAAAABAAACAAAAAAEAAAgAAAAAAgAAAgAAAAABAAAKAAAAAAEAAAQAAAAAAQAAAAAAAAABAAACAAAAAAEAAAoAAAAAAQAABAAAAAABAAAAAAAAAAEAAAIAAAAAHHN0c2MAAAAAAAAAAQAAAAEAAADKAAAAAQAAAzxzdHN6AAAAAAAAAAAAAADKAAAFuQAAABgAAAAbAAAAHQAAAC4AAAAaAAAAEwAAABQAAAAWAAAAIAAAABQAAAAUAAAAHwAAABcAAAAUAAAAHgAAAB8AAAAVAAAAEwAAAB0AAAAdAAAAHQAAAC0AAAAXAAAAFAAAACAAAAAgAAAAEwAAABEAAAAWAAAAEAAAABQAAAATAAAAFgAAABAAAAAUAAAAEwAAAB4AAAAdAAAAHgAAABYAAAATAAAAIQAAABQAAAATAAAAFAAAABwAAAAgAAAAFAAAABwAAAAhAAAAFAAAABwAAAAUAAAAHgAAABQAAAATAAAAFAAAAB4AAAAdAAAAIAAAABQAAAAUAAAAEwAAABYAAAAVAAAAFAAAABQAAAAaAAAAEgAAABQAAAATAAAAHQAAABwAAAAhAAAAEwAAAB0AAAAdAAAAIQAAABgAAAATAAAAFAAAACAAAAAUAAAAFQAAABcAAAAUAAAAEwAAAB4AAAAWAAAAFwAAABQAAAAUAAAAFwAAABAAAAAUAAAAFAAAABcAAAAYAAAAFAAAABMAAAAXAAAAEAAAABQAAAAUAAAAFwAAABgAAAAUAAAAFAAAAB0AAAAUAAAAEwAAABQAAAAgAAAAFAAAABMAAAATAAAAHQAAAB0AAAAVAAAAFwAAABQAAAAUAAAAHQAAABQAAAATAAAAFAAAAB4AAAAUAAAAHAAAABYAAAAUAAAAHQAAAB8AAAAcAAAAHAAAAB0AAAA0AAAAFAAAAB0AAAATAAAAEQAAAB4AAAAdAAAAHgAAABoAAAASAAAAFAAAABMAAAAeAAAAEwAAABEAAAAgAAAAFAAAABQAAAATAAAAHgAAAB0AAAAdAAAAHwAAABQAAAAUAAAAEwAAAB8AAAAUAAAAHQAAAB0AAAAWAAAAEgAAABcAAAAQAAAAFAAAABQAAAAXAAAAEAAAABQAAAAUAAAAIAAAABQAAAATAAAAEwAAAB4AAAAUAAAAHAAAABkAAAAUAAAAEwAAAB0AAAAUAAAAIAAAABQAAAAdAAAAFgAAABIAAAAWAAAAFwAAABQAAAAUAAAAHgAAAC4AAAAUAAAAKQAAABRzdGNvAAAAAAAAAAEAAAAwAAAAYnVkdGEAAABabWV0YQAAAAAAAAAhaGRscgAAAAAAAAAAbWRpcmFwcGwAAAAAAAAAAAAAAAAtaWxzdAAAACWpdG9vAAAAHWRhdGEAAAABAAAAAExhdmY1Ny44My4xMDA=\" type=\"video/mp4\" />\n",
       "             </video>"
      ],
      "text/plain": [
       "<IPython.core.display.HTML object>"
      ]
     },
     "execution_count": 121,
     "metadata": {},
     "output_type": "execute_result"
    }
   ],
   "source": [
    "HTML(display_videos('fc_train20.mp4'))"
   ]
  },
  {
   "cell_type": "markdown",
   "metadata": {},
   "source": [
    "***\n",
    "***\n",
    "__Question 8__ Implement the DQN training algorithm using a CNN (for example, 2 convolutional layers and one final fully connected layer)."
   ]
  },
  {
   "cell_type": "code",
   "execution_count": 122,
   "metadata": {},
   "outputs": [],
   "source": [
    "class DQN_CNN(DQN):\n",
    "    def __init__(self, *args,lr=0.1,**kwargs):\n",
    "        super(DQN_CNN, self).__init__(*args,**kwargs)\n",
    "        \n",
    "        ###### FILL IN\n",
    "        model = Sequential()\n",
    "        model.add(Conv2D(filters=32, kernel_size=3, activation=\"relu\", input_shape=(5, 5, self.n_state)))\n",
    "        model.add(Conv2D(filters=16, kernel_size=2, activation=\"relu\"))\n",
    "        model.add(Flatten())\n",
    "        model.add(Dense(4, activation=None))\n",
    "        ######\n",
    "        \n",
    "        model.compile(Adam(lr=lr), \"mse\")\n",
    "        self.model = model"
   ]
  },
  {
   "cell_type": "code",
   "execution_count": 123,
   "metadata": {
    "scrolled": true
   },
   "outputs": [
    {
     "name": "stdout",
     "output_type": "stream",
     "text": [
      "Epoch 000/021 | Loss 0.0019 | Win/lose count 1.5/10.0 (-8.5)\n",
      "Epoch 001/021 | Loss 0.0003 | Win/lose count 2.5/5.0 (-2.5)\n",
      "Epoch 002/021 | Loss 0.0013 | Win/lose count 8.0/3.0 (5.0)\n",
      "Epoch 003/021 | Loss 0.0011 | Win/lose count 9.5/7.0 (2.5)\n",
      "Epoch 004/021 | Loss 0.0014 | Win/lose count 10.5/3.0 (7.5)\n",
      "Epoch 005/021 | Loss 0.0014 | Win/lose count 11.0/4.0 (7.0)\n",
      "Epoch 006/021 | Loss 0.0008 | Win/lose count 8.0/5.0 (3.0)\n",
      "Epoch 007/021 | Loss 0.0010 | Win/lose count 7.5/4.0 (3.5)\n",
      "Epoch 008/021 | Loss 0.0013 | Win/lose count 7.5/6.0 (1.5)\n",
      "Epoch 009/021 | Loss 0.0012 | Win/lose count 5.5/5.0 (0.5)\n",
      "Epoch 010/021 | Loss 0.0005 | Win/lose count 9.0/2.0 (7.0)\n",
      "Epoch 011/021 | Loss 0.0006 | Win/lose count 10.0/1.0 (9.0)\n",
      "Epoch 012/021 | Loss 0.0004 | Win/lose count 17.5/3.0 (14.5)\n",
      "Epoch 013/021 | Loss 0.0005 | Win/lose count 12.0/6.0 (6.0)\n",
      "Epoch 014/021 | Loss 0.0004 | Win/lose count 15.0/4.0 (11.0)\n",
      "Epoch 015/021 | Loss 0.0007 | Win/lose count 10.0/3.0 (7.0)\n",
      "Epoch 016/021 | Loss 0.0003 | Win/lose count 14.5/8.0 (6.5)\n",
      "Epoch 017/021 | Loss 0.0007 | Win/lose count 21.0/7.0 (14.0)\n",
      "Epoch 018/021 | Loss 0.0005 | Win/lose count 18.5/8.0 (10.5)\n",
      "Epoch 019/021 | Loss 0.0008 | Win/lose count 13.0/4.0 (9.0)\n",
      "Epoch 020/021 | Loss 0.0003 | Win/lose count 14.0/2.0 (12.0)\n"
     ]
    },
    {
     "data": {
      "text/html": [
       "<video alt=\"test\" controls>\n",
       "                <source src=\"data:video/mp4;base64,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\" type=\"video/mp4\" />\n",
       "             </video>"
      ],
      "text/plain": [
       "<IPython.core.display.HTML object>"
      ]
     },
     "execution_count": 123,
     "metadata": {},
     "output_type": "execute_result"
    }
   ],
   "source": [
    "env = Environment(grid_size=size, max_time=T, temperature=0.3)\n",
    "agent = DQN_CNN(size, lr=.01, epsilon = 0.15, memory_size=2000, batch_size = 64)\n",
    "train(agent,env,epochs_train,prefix='cnn_train')\n",
    "HTML(display_videos('cnn_train20.mp4'))"
   ]
  },
  {
   "cell_type": "markdown",
   "metadata": {},
   "source": [
    "***\n",
    "***\n",
    "__Question 9__ Test both algorithms and compare their performances. Which issue(s) do you observe? Observe also different behaviors by changing the temperature."
   ]
  },
  {
   "cell_type": "code",
   "execution_count": 124,
   "metadata": {
    "scrolled": true
   },
   "outputs": [
    {
     "name": "stdout",
     "output_type": "stream",
     "text": [
      "Test of the CNN\n",
      "Win/lose count 13.0/2.0. Average score (11.0)\n",
      "Win/lose count 2.0/2.0. Average score (5.5)\n",
      "Win/lose count 4.5/0. Average score (5.166666666666667)\n",
      "Win/lose count 3.5/3.0. Average score (4.0)\n",
      "Win/lose count 5.0/2.0. Average score (3.8)\n",
      "Win/lose count 2.0/3.0. Average score (3.0)\n",
      "Win/lose count 7.5/2.0. Average score (3.357142857142857)\n",
      "Win/lose count 7.5/1.0. Average score (3.75)\n",
      "Win/lose count 3.5/1.0. Average score (3.611111111111111)\n",
      "Win/lose count 9.5/3.0. Average score (3.9)\n",
      "Win/lose count 6.5/1.0. Average score (4.045454545454546)\n",
      "Win/lose count 6.5/3.0. Average score (4.0)\n",
      "Win/lose count 5.5/1.0. Average score (4.038461538461538)\n",
      "Win/lose count 7.5/2.0. Average score (4.142857142857143)\n",
      "Win/lose count 11.0/1.0. Average score (4.533333333333333)\n",
      "Win/lose count 12.0/4.0. Average score (4.75)\n",
      "Win/lose count 3.5/2.0. Average score (4.5588235294117645)\n",
      "Win/lose count 4.5/2.0. Average score (4.444444444444445)\n",
      "Win/lose count 8.5/0. Average score (4.657894736842105)\n",
      "Win/lose count 3.5/1.0. Average score (4.55)\n",
      "Win/lose count 12.5/3.0. Average score (4.785714285714286)\n",
      "Final score: 4.785714285714286\n",
      "Test of the FC\n",
      "Win/lose count 2.0/3.0. Average score (-1.0)\n",
      "Win/lose count 3.0/7.0. Average score (-2.5)\n",
      "Win/lose count 2.0/3.0. Average score (-2.0)\n",
      "Win/lose count 1.5/5.0. Average score (-2.375)\n",
      "Win/lose count 1.5/7.0. Average score (-3.0)\n",
      "Win/lose count 2.5/3.0. Average score (-2.5833333333333335)\n",
      "Win/lose count 1.5/5.0. Average score (-2.7142857142857144)\n",
      "Win/lose count 5.5/5.0. Average score (-2.3125)\n",
      "Win/lose count 7.5/4.0. Average score (-1.6666666666666667)\n",
      "Win/lose count 3.5/2.0. Average score (-1.35)\n",
      "Win/lose count 0.5/5.0. Average score (-1.6363636363636365)\n",
      "Win/lose count 2.0/2.0. Average score (-1.5)\n",
      "Win/lose count 3.5/9.0. Average score (-1.8076923076923077)\n",
      "Win/lose count 1.0/3.0. Average score (-1.8214285714285714)\n",
      "Win/lose count 1.5/3.0. Average score (-1.8)\n",
      "Win/lose count 5.5/4.0. Average score (-1.59375)\n",
      "Win/lose count 2.0/2.0. Average score (-1.5)\n",
      "Win/lose count 2.0/8.0. Average score (-1.75)\n",
      "Win/lose count 4.5/2.0. Average score (-1.5263157894736843)\n",
      "Win/lose count 6.0/10.0. Average score (-1.65)\n",
      "Win/lose count 3.0/5.0. Average score (-1.6666666666666667)\n",
      "Final score: -1.6666666666666667\n"
     ]
    }
   ],
   "source": [
    "env = Environment(grid_size=size, max_time=T,temperature=0.3)\n",
    "agent_cnn = DQN_CNN(size, lr=.1, epsilon = 0.1, memory_size=2000, batch_size = 32)\n",
    "agent_cnn.load(name_weights='cnn_trainmodel.h5',name_model='cnn_trainmodel.json')\n",
    "\n",
    "agent_fc = DQN_FC(size, lr=.1, epsilon = 0.1, memory_size=2000, batch_size = 32)\n",
    "agent_cnn.load(name_weights='fc_trainmodel.h5',name_model='fc_trainmodel.json')\n",
    "print('Test of the CNN')\n",
    "test(agent_cnn,env,epochs_test,prefix='cnn_test')\n",
    "print('Test of the FC')\n",
    "test(agent_fc,env,epochs_test,prefix='fc_test')"
   ]
  },
  {
   "cell_type": "code",
   "execution_count": 125,
   "metadata": {},
   "outputs": [
    {
     "data": {
      "text/html": [
       "<video alt=\"test\" controls>\n",
       "                <source src=\"data:video/mp4;base64,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\" type=\"video/mp4\" />\n",
       "             </video>"
      ],
      "text/plain": [
       "<IPython.core.display.HTML object>"
      ]
     },
     "execution_count": 125,
     "metadata": {},
     "output_type": "execute_result"
    }
   ],
   "source": [
    "HTML(display_videos('cnn_test20.mp4'))"
   ]
  },
  {
   "cell_type": "code",
   "execution_count": 126,
   "metadata": {},
   "outputs": [
    {
     "data": {
      "text/html": [
       "<video alt=\"test\" controls>\n",
       "                <source src=\"data:video/mp4;base64,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\" type=\"video/mp4\" />\n",
       "             </video>"
      ],
      "text/plain": [
       "<IPython.core.display.HTML object>"
      ]
     },
     "execution_count": 126,
     "metadata": {},
     "output_type": "execute_result"
    }
   ],
   "source": [
    "HTML(display_videos('fc_test20.mp4'))"
   ]
  },
  {
   "cell_type": "markdown",
   "metadata": {},
   "source": [
    "- In both cases it is offen ending up in a small loop of few cases. Thoses loops are eventualy broken by the $\\epsilon$ probability of random action. This is even true when the board is full with cheese (high temperature) and the reward will increase only if exploring new states.\n",
    "- The cnn model is always performing better, earning a final better score. But note that if the number of training epochs is to low, FC might learn quicker.\n",
    "- The temperature is the proportion of cheese to poison. Of course as it's increase the scores will increase as well."
   ]
  },
  {
   "cell_type": "markdown",
   "metadata": {},
   "source": [
    "***\n",
    "\n",
    "The algorithm tends to not explore the map which can be an issue. We propose two ideas in order to encourage exploration:\n",
    "1. Incorporating a decreasing $\\epsilon$-greedy exploration. You can use the method ```set_epsilon```\n",
    "2. Append via the environment a new state that describes if a cell has been visited or not\n",
    "\n",
    "***\n",
    "__Question 10__ Design a new ```train_explore``` function and environment class ```EnvironmentExploring``` to tackle the issue of exploration.\n",
    "\n"
   ]
  },
  {
   "cell_type": "code",
   "execution_count": 127,
   "metadata": {},
   "outputs": [],
   "source": [
    "def train_explore(agent,env,epoch,exploration_decay=0.9,prefix=''):\n",
    "     # Number of won games\n",
    "    score = 0\n",
    "    loss = 0\n",
    "\n",
    "    for e in range(1, epoch+1):\n",
    "        # At each epoch, we restart to a fresh game and get the initial state\n",
    "        state = env.reset()\n",
    "        # This assumes that the games will terminate\n",
    "        game_over = False\n",
    "\n",
    "        win = 0\n",
    "        lose = 0\n",
    "\n",
    "        while not game_over:\n",
    "            # The agent performs an action\n",
    "            action = agent.act(state)\n",
    "\n",
    "            # Apply an action to the environment, get the next state, the reward\n",
    "            # and if the games end\n",
    "            prev_state = state\n",
    "            state, reward, game_over = env.act(action, train=True)\n",
    "\n",
    "            # Update the counters\n",
    "            if reward > 0:\n",
    "                win = win + reward\n",
    "            if reward < 0:\n",
    "                lose = lose -reward\n",
    "\n",
    "            # Apply the reinforcement strategy\n",
    "            loss = agent.reinforce(prev_state, state,  action, reward, game_over)\n",
    "        \n",
    "        # Decrease the exploration rate\n",
    "        agent.set_epsilon(agent.epsilon * exploration_decay)\n",
    "\n",
    "        # Save as a mp4\n",
    "        if e % 10 == 0:\n",
    "            env.draw(prefix+str(e))\n",
    "\n",
    "        # Update stats\n",
    "        score += win-lose\n",
    "\n",
    "        print(\"Epoch {:03d}/{:03d} | Loss {:.4f} | Win/lose count {}/{} ({})\"\n",
    "              .format(e, epoch, loss, round(win, 2), round(lose, 2), round(win-lose, 2)))\n",
    "        agent.save(name_weights=prefix+'model.h5', name_model=prefix+'model.json')\n",
    "        \n",
    "class EnvironmentExploring(object):\n",
    "    def __init__(self, grid_size=10, max_time=500, temperature=0.1):\n",
    "        grid_size = grid_size+4\n",
    "        self.grid_size = grid_size\n",
    "        self.max_time = max_time\n",
    "        self.temperature = temperature\n",
    "\n",
    "        #board on which one plays\n",
    "        self.board = np.zeros((grid_size,grid_size))\n",
    "        self.position = np.zeros((grid_size,grid_size))\n",
    "        self.malus_position = np.zeros((grid_size,grid_size))\n",
    "\n",
    "        # coordinate of the mouse\n",
    "        self.x = 0\n",
    "        self.y = 1\n",
    "\n",
    "        # self time\n",
    "        self.t = 0\n",
    "\n",
    "        self.scale=16\n",
    "\n",
    "        self.to_draw = np.zeros((max_time+2, grid_size*self.scale, grid_size*self.scale, 3))\n",
    "\n",
    "\n",
    "    def draw(self, e):\n",
    "        skvideo.io.vwrite(str(e) + '.mp4', self.to_draw)\n",
    "\n",
    "    def get_frame(self, t):\n",
    "        b = np.zeros((self.grid_size,self.grid_size,3))+128\n",
    "        b[self.board>0,0] = 256\n",
    "        b[self.board < 0, 2] = 256\n",
    "        b[self.x,self.y,:]=256\n",
    "        b[-2:,:,:]=0\n",
    "        b[:,-2:,:]=0\n",
    "        b[:2,:,:]=0\n",
    "        b[:,:2,:]=0\n",
    "        \n",
    "        b =  cv2.resize(b, None, fx=self.scale, fy=self.scale, interpolation=cv2.INTER_NEAREST)\n",
    "\n",
    "        self.to_draw[t,:,:,:]=b\n",
    "\n",
    "\n",
    "    def act(self, action, train=False):\n",
    "        \"\"\"This function returns the new state, reward and decides if the\n",
    "        game ends.\"\"\"\n",
    "\n",
    "        self.get_frame(int(self.t))\n",
    "\n",
    "        self.position = np.zeros((self.grid_size, self.grid_size))\n",
    "\n",
    "        self.position[0:2,:]= -1\n",
    "        self.position[:,0:2] = -1\n",
    "        self.position[-2:, :] = -1\n",
    "        self.position[-2:, :] = -1\n",
    "\n",
    "        self.position[self.x, self.y] = 1\n",
    "        if action == 0:\n",
    "            if self.x == self.grid_size-3:\n",
    "                self.x = self.x-1\n",
    "            else:\n",
    "                self.x = self.x + 1\n",
    "        elif action == 1:\n",
    "            if self.x == 2:\n",
    "                self.x = self.x+1\n",
    "            else:\n",
    "                self.x = self.x-1\n",
    "        elif action == 2:\n",
    "            if self.y == self.grid_size - 3:\n",
    "                self.y = self.y - 1\n",
    "            else:\n",
    "                self.y = self.y + 1\n",
    "        elif action == 3:\n",
    "            if self.y == 2:\n",
    "                self.y = self.y + 1\n",
    "            else:\n",
    "                self.y = self.y - 1\n",
    "        else:\n",
    "            RuntimeError('Error: action not recognized')\n",
    "\n",
    "        self.t = self.t + 1\n",
    "        \n",
    "        reward = 0\n",
    "        \n",
    "        # Exploration penality\n",
    "        if train:\n",
    "            reward = -self.malus_position[self.x, self.y]\n",
    "        self.malus_position[self.x, self.y] = 0.1\n",
    "        reward = reward + self.board[self.x, self.y]\n",
    "        \n",
    "        self.board[self.x, self.y] = 0\n",
    "        game_over = self.t > self.max_time\n",
    "        state = np.concatenate((self.malus_position.reshape(self.grid_size, self.grid_size,1),\n",
    "                                self.board.reshape(self.grid_size, self.grid_size,1),\n",
    "                                self.position.reshape(self.grid_size, self.grid_size,1)),axis=2)\n",
    "        state = state[self.x-2:self.x+3,self.y-2:self.y+3,:]\n",
    "        \n",
    "        return state, reward, game_over\n",
    "\n",
    "    def reset(self):\n",
    "        \"\"\"This function resets the game and returns the initial state\"\"\"\n",
    "\n",
    "        self.x = np.random.randint(3, self.grid_size-3, size=1)[0]\n",
    "        self.y = np.random.randint(3, self.grid_size-3, size=1)[0]\n",
    "\n",
    "\n",
    "        bonus = 0.5*np.random.binomial(1,self.temperature,size=self.grid_size**2)\n",
    "        bonus = bonus.reshape(self.grid_size,self.grid_size)\n",
    "\n",
    "        malus = -1.0*np.random.binomial(1,self.temperature,size=self.grid_size**2)\n",
    "        malus = malus.reshape(self.grid_size, self.grid_size)\n",
    "\n",
    "        self.to_draw = np.zeros((self.max_time+2, self.grid_size*self.scale, self.grid_size*self.scale, 3))\n",
    "\n",
    "\n",
    "        malus[bonus>0]=0\n",
    "\n",
    "        self.board = bonus + malus\n",
    "\n",
    "        self.position = np.zeros((self.grid_size, self.grid_size))\n",
    "        self.position[0:2,:]= -1\n",
    "        self.position[:,0:2] = -1\n",
    "        self.position[-2:, :] = -1\n",
    "        self.position[-2:, :] = -1\n",
    "        self.board[self.x,self.y] = 0\n",
    "        self.t = 0\n",
    "\n",
    "        # The state now includes wether the surrounding states were visited before\n",
    "        # 3 \"feature\" states instead of 2\n",
    "        state = np.concatenate((self.malus_position.reshape(self.grid_size, self.grid_size,1),\n",
    "                                self.board.reshape(self.grid_size, self.grid_size,1),\n",
    "                                self.position.reshape(self.grid_size, self.grid_size,1)),axis=2)\n",
    "    \n",
    "        state = state[self.x - 2:self.x + 3, self.y - 2:self.y + 3, :]\n",
    "        return state"
   ]
  },
  {
   "cell_type": "code",
   "execution_count": 128,
   "metadata": {
    "scrolled": true
   },
   "outputs": [
    {
     "name": "stdout",
     "output_type": "stream",
     "text": [
      "Epoch 001/021 | Loss 0.0069 | Win/lose count 12.0/27.1 (-15.1)\n",
      "Epoch 002/021 | Loss 0.0040 | Win/lose count 10.9/17.3 (-6.4)\n",
      "Epoch 003/021 | Loss 0.0053 | Win/lose count 7.1/21.9 (-14.8)\n",
      "Epoch 004/021 | Loss 0.0027 | Win/lose count 10.6/19.6 (-9.0)\n",
      "Epoch 005/021 | Loss 0.0087 | Win/lose count 8.8/22.5 (-13.7)\n",
      "Epoch 006/021 | Loss 0.0031 | Win/lose count 15.1/19.0 (-3.9)\n",
      "Epoch 007/021 | Loss 0.0057 | Win/lose count 10.8/21.8 (-11.0)\n",
      "Epoch 008/021 | Loss 0.0056 | Win/lose count 18.5/22.4 (-3.9)\n",
      "Epoch 009/021 | Loss 0.0034 | Win/lose count 15.7/17.9 (-2.2)\n",
      "Epoch 010/021 | Loss 0.0041 | Win/lose count 14.8/21.4 (-6.6)\n",
      "Epoch 011/021 | Loss 0.0043 | Win/lose count 19.2/20.3 (-1.1)\n",
      "Epoch 012/021 | Loss 0.0027 | Win/lose count 20.8/15.9 (4.9)\n",
      "Epoch 013/021 | Loss 0.0039 | Win/lose count 19.6/18.2 (1.4)\n",
      "Epoch 014/021 | Loss 0.0067 | Win/lose count 14.0/21.6 (-7.6)\n",
      "Epoch 015/021 | Loss 0.0044 | Win/lose count 13.6/18.7 (-5.1)\n",
      "Epoch 016/021 | Loss 0.0066 | Win/lose count 9.6/21.7 (-12.1)\n",
      "Epoch 017/021 | Loss 0.0049 | Win/lose count 7.6/22.2 (-14.6)\n",
      "Epoch 018/021 | Loss 0.0031 | Win/lose count 8.8/19.9 (-11.1)\n",
      "Epoch 019/021 | Loss 0.0068 | Win/lose count 14.4/22.5 (-8.1)\n",
      "Epoch 020/021 | Loss 0.0060 | Win/lose count 12.8/18.9 (-6.1)\n",
      "Epoch 021/021 | Loss 0.0058 | Win/lose count 12.8/19.9 (-7.1)\n"
     ]
    },
    {
     "data": {
      "text/html": [
       "<video alt=\"test\" controls>\n",
       "                <source src=\"data:video/mp4;base64,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\" type=\"video/mp4\" />\n",
       "             </video>"
      ],
      "text/plain": [
       "<IPython.core.display.HTML object>"
      ]
     },
     "execution_count": 128,
     "metadata": {},
     "output_type": "execute_result"
    }
   ],
   "source": [
    "# Training\n",
    "env = EnvironmentExploring(grid_size=size, max_time=T, temperature=0.3)\n",
    "agent = DQN_CNN(size, lr=.01, epsilon = 0.2, memory_size=2000, batch_size = 64,n_state=3)\n",
    "train_explore(agent, env, epochs_train, exploration_decay=0.95, prefix='cnn_train_explore')\n",
    "HTML(display_videos('cnn_train_explore20.mp4'))"
   ]
  },
  {
   "cell_type": "code",
   "execution_count": 129,
   "metadata": {
    "scrolled": true
   },
   "outputs": [
    {
     "name": "stdout",
     "output_type": "stream",
     "text": [
      "Win/lose count 12.0/1.0. Average score (11.0)\n",
      "Win/lose count 8.0/1.0. Average score (9.0)\n",
      "Win/lose count 16.5/5.0. Average score (9.833333333333334)\n",
      "Win/lose count 13.5/8.0. Average score (8.75)\n",
      "Win/lose count 19.0/7.0. Average score (9.4)\n",
      "Win/lose count 14.5/2.0. Average score (9.916666666666666)\n",
      "Win/lose count 16.5/1.0. Average score (10.714285714285714)\n",
      "Win/lose count 16.5/7.0. Average score (10.5625)\n",
      "Win/lose count 19.5/4.0. Average score (11.11111111111111)\n",
      "Win/lose count 10.5/3.0. Average score (10.75)\n",
      "Win/lose count 13.5/5.0. Average score (10.545454545454545)\n",
      "Win/lose count 17.5/4.0. Average score (10.791666666666666)\n",
      "Win/lose count 13.5/1.0. Average score (10.923076923076923)\n",
      "Win/lose count 11.0/4.0. Average score (10.642857142857142)\n",
      "Win/lose count 6.5/3.0. Average score (10.166666666666666)\n",
      "Win/lose count 29.0/2.0. Average score (11.21875)\n",
      "Win/lose count 15.5/3.0. Average score (11.294117647058824)\n",
      "Win/lose count 13.5/3.0. Average score (11.25)\n",
      "Win/lose count 14.5/1.0. Average score (11.368421052631579)\n",
      "Win/lose count 6.0/6.0. Average score (10.8)\n",
      "Win/lose count 20.5/6.0. Average score (10.976190476190476)\n",
      "Final score: 10.976190476190476\n"
     ]
    },
    {
     "data": {
      "text/html": [
       "<video alt=\"test\" controls>\n",
       "                <source src=\"data:video/mp4;base64,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\" type=\"video/mp4\" />\n",
       "             </video>"
      ],
      "text/plain": [
       "<IPython.core.display.HTML object>"
      ]
     },
     "execution_count": 129,
     "metadata": {},
     "output_type": "execute_result"
    }
   ],
   "source": [
    "# Evaluation\n",
    "test(agent,env,epochs_test,prefix='cnn_test_explore')\n",
    "HTML(display_videos('cnn_test_explore20.mp4'))"
   ]
  },
  {
   "cell_type": "markdown",
   "metadata": {},
   "source": [
    "***\n",
    "***\n",
    "__BONUS question__ Use the expert DQN from the previous question to generate some winning games. Train a model that mimicks its behavior. Compare the performances."
   ]
  },
  {
   "cell_type": "markdown",
   "metadata": {},
   "source": [
    "\n"
   ]
  },
  {
   "cell_type": "markdown",
   "metadata": {},
   "source": [
    "***"
   ]
  }
 ],
 "metadata": {
  "kernelspec": {
   "display_name": "Python 3",
   "language": "python",
   "name": "python3"
  },
  "language_info": {
   "codemirror_mode": {
    "name": "ipython",
    "version": 3
   },
   "file_extension": ".py",
   "mimetype": "text/x-python",
   "name": "python",
   "nbconvert_exporter": "python",
   "pygments_lexer": "ipython3",
   "version": "3.6.9"
  }
 },
 "nbformat": 4,
 "nbformat_minor": 2
}
